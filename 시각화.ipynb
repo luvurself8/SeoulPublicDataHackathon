{
 "cells": [
  {
   "cell_type": "code",
   "execution_count": 1,
   "metadata": {},
   "outputs": [],
   "source": [
    "from dbmodule import dbConnect, getData"
   ]
  },
  {
   "cell_type": "code",
   "execution_count": 2,
   "metadata": {},
   "outputs": [],
   "source": [
    "conn, cursor = dbConnect.dbconnect()"
   ]
  },
  {
   "cell_type": "code",
   "execution_count": 3,
   "metadata": {},
   "outputs": [],
   "source": [
    "#ST-327, ST-1680, ST-1556, ST-2999, ST-641, ST-1661, ST-936, ST-802, ST-959, ST-360, ST-1035, ST-470, ST-1670, ST-2437, ST-1140, ST-454, ST-1896, ST-812, ST-1276, ST-2667, ST-950, ST-1577, ST-1305, ST-620, ST-1270, ST-1521, ST-194, ST-624, ST-1887, ST-2177, ST-1938, ST-621, ST-702, ST-2343, ST-241, ST-2964, ST-815, ST-2430, ST-98, ST-765, ST-2447, ST-1277, ST-664, ST-811, ST-1615, ST-1403, ST-1224, ST-2786, ST-1660, ST-1178, ST-640, ST-1753, ST-359, ST-1791"
   ]
  },
  {
   "cell_type": "code",
   "execution_count": 4,
   "metadata": {},
   "outputs": [
    {
     "name": "stderr",
     "output_type": "stream",
     "text": [
      "c:\\Users\\User\\OneDrive\\바탕 화면\\workspace\\Hackathon\\dbmodule.py:115: UserWarning: pandas only supports SQLAlchemy connectable (engine/connection) or database string URI or sqlite3 DBAPI2 connection. Other DBAPI2 objects are not tested. Please consider using SQLAlchemy.\n",
      "  df = pd.read_sql(sql_query,conn)\n"
     ]
    }
   ],
   "source": [
    "bike_station_code = 'ST-327'\n",
    "start_dt = ''\n",
    "end_dt = '2024-04-07'\n",
    "df = getData.get_station_info_by_sbike_spot_id (conn, bike_station_code,start_dt, end_dt)\n",
    "conn.close()"
   ]
  },
  {
   "cell_type": "code",
   "execution_count": 5,
   "metadata": {},
   "outputs": [
    {
     "data": {
      "text/plain": [
       "Index(['cur_time', 'area_cd', 'sbike_spot_id', 'sbike_parking_cnt',\n",
       "       'WEATHER_TIME', 'TEMP', 'SENSIBLE_TEMP', 'HUMIDITY', 'WIND_DIRCT',\n",
       "       'WIND_SPD', 'PRECIPITATION', 'PRECPT_TYPE', 'SUNRISE', 'SUNSET',\n",
       "       'UV_INDEX_LVL', 'UV_INDEX', 'PM25_INDEX', 'PM25', 'PM10_INDEX', 'PM10',\n",
       "       'AIR_IDX', 'AIR_IDX_MVL', 'AIR_IDX_MAIN', 'PPLTN_TIME',\n",
       "       'AREA_CONGEST_LVL', 'AREA_PPLTN_MIN', 'AREA_PPLTN_MAX',\n",
       "       'MALE_PPLTN_RATE', 'FEMALE_PPLTN_RATE', 'PPLTN_RATE_0', 'PPLTN_RATE_10',\n",
       "       'PPLTN_RATE_20', 'PPLTN_RATE_30', 'PPLTN_RATE_40', 'PPLTN_RATE_50',\n",
       "       'PPLTN_RATE_60', 'PPLTN_RATE_70', 'RESNT_PPLTN_RATE',\n",
       "       'NON_RESNT_PPLTN_RATE'],\n",
       "      dtype='object')"
      ]
     },
     "execution_count": 5,
     "metadata": {},
     "output_type": "execute_result"
    }
   ],
   "source": [
    "df.columns"
   ]
  }
 ],
 "metadata": {
  "kernelspec": {
   "display_name": "Python 3",
   "language": "python",
   "name": "python3"
  },
  "language_info": {
   "codemirror_mode": {
    "name": "ipython",
    "version": 3
   },
   "file_extension": ".py",
   "mimetype": "text/x-python",
   "name": "python",
   "nbconvert_exporter": "python",
   "pygments_lexer": "ipython3",
   "version": "3.11.2"
  }
 },
 "nbformat": 4,
 "nbformat_minor": 2
}
